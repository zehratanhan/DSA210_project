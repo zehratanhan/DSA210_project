{
 "cells": [
  {
   "cell_type": "markdown",
   "id": "a13a2da2",
   "metadata": {},
   "source": [
    "# 📊 Attendance & Weather Analysis\n",
    "This notebook contains all the analysis steps for the DSA210 final project."
   ]
  },
  {
   "cell_type": "code",
   "execution_count": null,
   "id": "85118801",
   "metadata": {},
   "outputs": [],
   "source": [
    "import pandas as pd\n",
    "import seaborn as sns\n",
    "import matplotlib.pyplot as plt\n",
    "from scipy.stats import ttest_ind\n",
    "\n",
    "# Load data\n",
    "attendance = pd.read_csv(\"attendance.csv\", parse_dates=[\"date\"])\n",
    "weather = pd.read_csv(\"weather.csv\", parse_dates=[\"date\"])\n",
    "\n",
    "# Merge datasets\n",
    "df = pd.merge(attendance, weather, on=\"date\", how=\"inner\")\n",
    "df[\"cold\"] = df[\"tempmax_c\"] < 8\n",
    "df[\"wet\"] = df[\"precip\"] > 0.5\n",
    "df[\"cold_and_wet\"] = df[\"cold\"] & df[\"wet\"]\n"
   ]
  },
  {
   "cell_type": "code",
   "execution_count": null,
   "id": "f6e2eb67",
   "metadata": {},
   "outputs": [],
   "source": [
    "# Simplify condition labels\n",
    "df[\"weather_type\"] = df[\"conditions\"].str.extract(r'^(Snow|Rain)?').fillna(\"Clear/Cloudy\")\n",
    "\n",
    "# Bar plot\n",
    "sns.set(style=\"whitegrid\")\n",
    "plt.figure(figsize=(6,4))\n",
    "sns.barplot(data=df, x=\"weather_type\", y=\"attendance\", ci=None)\n",
    "plt.title(\"Average Attendance by Weather Type\")\n",
    "plt.xlabel(\"Weather Type\")\n",
    "plt.ylabel(\"Attendance Rate\")\n",
    "plt.tight_layout()\n",
    "plt.show()"
   ]
  },
  {
   "cell_type": "code",
   "execution_count": null,
   "id": "e5e71563",
   "metadata": {},
   "outputs": [],
   "source": [
    "# Max temperature vs attendance\n",
    "plt.figure(figsize=(6, 4))\n",
    "sns.scatterplot(data=df, x=\"tempmax_c\", y=\"attendance\", marker=\"o\", s=60)\n",
    "plt.title(\"Attendance vs. Max Temperature\")\n",
    "plt.xlabel(\"Max Temperature (°C)\")\n",
    "plt.ylabel(\"Attendance\")\n",
    "plt.tight_layout()\n",
    "plt.show()\n",
    "\n",
    "# Precipitation vs attendance\n",
    "plt.figure(figsize=(6, 4))\n",
    "sns.scatterplot(data=df, x=\"precip\", y=\"attendance\", marker=\"o\", s=60)\n",
    "plt.title(\"Attendance vs. Precipitation\")\n",
    "plt.xlabel(\"Precipitation (mm)\")\n",
    "plt.ylabel(\"Attendance\")\n",
    "plt.tight_layout()\n",
    "plt.show()"
   ]
  },
  {
   "cell_type": "code",
   "execution_count": null,
   "id": "395d8ccf",
   "metadata": {},
   "outputs": [],
   "source": [
    "# T-test: cold & wet vs others\n",
    "group_a = df[df[\"cold_and_wet\"]][\"attendance\"]\n",
    "group_b = df[~df[\"cold_and_wet\"]][\"attendance\"]\n",
    "t_stat, p_val = ttest_ind(group_a, group_b, equal_var=False)\n",
    "\n",
    "print(\"T-statistic:\", t_stat)\n",
    "print(\"P-value:\", p_val)\n",
    "print(\"Group A size:\", len(group_a))\n",
    "print(\"Group B size:\", len(group_b))\n"
   ]
  }
 ],
 "metadata": {},
 "nbformat": 4,
 "nbformat_minor": 5
}
